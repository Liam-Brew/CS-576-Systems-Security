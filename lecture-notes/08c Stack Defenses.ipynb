{
 "cells": [
  {
   "cell_type": "markdown",
   "metadata": {},
   "source": [
    "# 08c Stack Defenses\n",
    "\n",
    "## Stack Guard\n",
    " \n",
    "Special canary values are inserted between local variables and function return addresses\n",
    "\n",
    "Canary values are inserted on function entry and verified before a function returns\n",
    "\n",
    "Canary types:\n",
    "\n",
    "- **random**: most common\n",
    "  - random bytes are chosen at startup\n",
    "    - reason why startup instead of compile time: cannot be determined from binary and immune to brute-forcing\n",
    "  - bytes are inserted into every stack frame\n",
    "  - canary is verified before returning from the function\n",
    "- **terminator**: canary = 0 (null), newline, EOF etc.\n",
    "  - string functions won't copy beyond the terminator\n",
    "  - therefore attackers can't use string functions"
   ]
  }
 ],
 "metadata": {
  "language_info": {
   "name": "python"
  },
  "orig_nbformat": 4
 },
 "nbformat": 4,
 "nbformat_minor": 2
}
