{
 "cells": [
  {
   "cell_type": "markdown",
   "metadata": {},
   "source": [
    "# 08a Data Execution Prevention\n",
    "\n",
    "Originally processors supported only read and write operations, with execution being implied on read\n",
    "\n",
    "**Translation Lookaside Buffer (TLB)**: a cache for storing translations for the most frequently accessed pages\n",
    "\n",
    "NX-bit: no-execute bit, prevents code injections\n",
    "\n",
    "- introduced in 2001 and makes a readable page non-executable\n",
    "- widely adopted **except for**:\n",
    "  - low-level IoT processors\n",
    "  - browsers\n",
    "\n",
    "JIT-compiled code and code caches imply the following:\n",
    "\n",
    "- code is continuously generated\n",
    "- code needs to be executed\n",
    "\n",
    "Some JS engines don't separate data and code, meaning that code can be injected into the cache and viewed as data. It is through this method that the payload may be inserted into memory\n",
    "\n",
    "Code injection is therefore possible because there is a memory area that is both writable and executable\n",
    "\n",
    "Prevented by splitting the browser into **code cache** (RX) and **data** (RW) sections. This is accomplished through the use of **virtual memory**\n",
    "\n"
   ]
  }
 ],
 "metadata": {
  "language_info": {
   "name": "python"
  },
  "orig_nbformat": 4
 },
 "nbformat": 4,
 "nbformat_minor": 2
}
