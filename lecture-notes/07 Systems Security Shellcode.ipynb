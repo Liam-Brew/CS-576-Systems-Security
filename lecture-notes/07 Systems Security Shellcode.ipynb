{
 "cells": [
  {
   "cell_type": "markdown",
   "metadata": {},
   "source": [
    "# 07 Systems Security Shellcode\n",
    "\n",
    "Compile assembly with GCC: \n",
    "\n",
    "```gcc -m64 -nostdlib -no-pie -o hello64.bin hello64.s```\n",
    "\n",
    "Extract only the machine code from generated code:\n",
    "\n",
    "```objcopy -o binary --only-section=.text hello64.bin hello64.s```\n",
    "\n",
    "View bytes in hex (encode them in a string):\n",
    "\n",
    "```hexdump -v hello64.sc -e '\"\\\\\"\"x\"1/1\"%02x\"\"\"'```\n",
    "\n",
    "For anything useful system calls are required:\n",
    "\n",
    "- Linux: system call API is powerful and easy\n",
    "  - 32-bit: ```0x80 int``` instruction is used to call system calls\n",
    "    - system call number is passed to register %eax\n",
    "    - %eax contains result from the system call\n",
    "  - 64-bit: ```syscall``` instruction is used\n",
    "    - system call number is passed to %rax\n",
    "- Windows: API is hard, so library functions are preferred\n",
    "- Calling functions is easy if you know the offset from the call instruction\n",
    "  - memory locations must be calculated\n",
    "\n",
    "Avoid using absolute addresses as it is hard to use in other processes. 64-bit systems allow for RIP relative addressing\n",
    "\n",
    "There exist 'special' byte limitations which prevent certain characters from being used:\n",
    "\n",
    "- strcpy() stops copying at the null byte\n",
    "- gets() reads one line at a time, stopping at '\\n'\n",
    "- input may need to be alphanumeric\n",
    "\n",
    "The following bypasses may be used:\n",
    "\n",
    "- rewrite shellcode to avoid these characters\n",
    "  - alternate instructions can achieve a similar result\n",
    "  - use multiple instructions and ALU operations to construct constants and addresses at run time\n",
    "- encode shellcode: a 1st stage shellcode decodes a 2nd stage then executes it"
   ]
  }
 ],
 "metadata": {
  "language_info": {
   "name": "python"
  },
  "orig_nbformat": 4
 },
 "nbformat": 4,
 "nbformat_minor": 2
}
