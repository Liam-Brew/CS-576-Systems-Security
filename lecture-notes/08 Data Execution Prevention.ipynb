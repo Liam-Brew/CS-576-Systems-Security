{
 "cells": [
  {
   "cell_type": "markdown",
   "metadata": {},
   "source": [
    "# 08 Data Execution Prevention\n",
    "\n",
    "Originally processors supported only read and write operations, with execution being implied on read\n",
    "\n",
    "**Translation Lookaside Buffer (TLB)**: a cache for storing translations for the most frequently accessed pages\n",
    "\n",
    "NX-bit: no-execute bit, prevents code injections\n",
    "\n",
    "- introduced in 2001 and makes a readable page non-executable\n",
    "- widely adopted **except for**:\n",
    "  - low-level IoT processors\n",
    "  - browsers\n",
    "\n",
    "JIT-compiled code and code caches imply the following:\n",
    "\n",
    "- code is continuously generated\n",
    "- code needs to be executed"
   ]
  }
 ],
 "metadata": {
  "language_info": {
   "name": "python"
  },
  "orig_nbformat": 4
 },
 "nbformat": 4,
 "nbformat_minor": 2
}
