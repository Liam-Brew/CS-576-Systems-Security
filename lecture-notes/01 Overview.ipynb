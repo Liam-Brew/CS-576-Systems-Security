{
 "cells": [
  {
   "cell_type": "markdown",
   "metadata": {},
   "source": [
    "# Lecture 01: Overview\n",
    "\n",
    "Course focuses on non-OS system software, the OS itself, and the hypervisor\n",
    "\n",
    "System software security areas:\n",
    "\n",
    "- discover bugs, vulnerabilities, and exploitation techniques \n",
    "- harden exploitation\n",
    "- eliminate vulnerability classes\n",
    "\n",
    "Privilege boundaries dictate what data and resources may be accessed:\n",
    "\n",
    "- attacks violate these boundaries\n",
    "  - data: read (confidentiality) or write(integrity)\n",
    "  - resources: execute instructions (integrity) or write (integrity)\n",
    "- attacks must gain something for the attackers\n",
    "\n",
    "Remote attacks target the application layer:\n",
    "\n",
    "- many apps implement their own access control systems, so compromising them reveals all user data\n",
    "- apps running with admin privileges are notable targets as compromise yields access to all files and system resources\n",
    "\n",
    "Local attacks seek to elevate privileges by exploiting vulnerabilities either in running software or lower levels\n",
    "\n",
    "**Set User ID on Execution (SUID) binaries**: useful for performing actions that would otherwise require super user privileges\n",
    "\n",
    "- trusted only to perform the advertised actions\n",
    "- ex: allowing users to change their password\n",
    "\n",
    "## Command Injection Attacks\n",
    "\n",
    "**Command injection**: attacker can insert arbitrary commands on the host OS via a vulnerable application. This is possible when an application passes an unsafe input\n",
    "\n",
    "**Path traversal**: attacker provides a path as input for navigational purposes"
   ]
  }
 ],
 "metadata": {
  "language_info": {
   "name": "python"
  },
  "orig_nbformat": 4
 },
 "nbformat": 4,
 "nbformat_minor": 2
}
