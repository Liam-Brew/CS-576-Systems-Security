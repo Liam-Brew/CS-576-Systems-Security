{
 "cells": [
  {
   "cell_type": "markdown",
   "metadata": {},
   "source": [
    "# 08b Code Reuse Attacks\n",
    "\n",
    "Even when injecting code is not possible, an adversary may still use control of return addresses to attack a system. The attacker in this case would return to an existing function that implements their desired functionality (e.g., libc's execve)\n",
    "\n",
    "**Gadget**: small sequence of instructions\n",
    "\n",
    "- end in an indirect-flow instruction\n",
    "- attackers can chain gadgets to execute code\n",
    "- **ROPGadget**: tool that finds interesting instruction sequences in assembly libraries\n",
    "\n",
    "Unintended instructions are formed by bytes within or between intended instructions\n",
    "\n",
    "After the initial return to ret2libc, a second function may be called: \n",
    "\n",
    "- use gadgets to move the stack pointer\n",
    "- add another series of fake return addresses and arguments in the stack\n",
    "\n",
    "## Return-oriented Program\n",
    "\n",
    "Entirely new programs may be created by chaining together gadgets ending in a return call\n",
    "\n",
    "The stack is used like a tape, providing the data for computations and the instruction pointer\n",
    "\n",
    "Provides a Turing-complete machine\n",
    "\n",
    "These represent **multi-stage exploits**\n",
    "\n",
    "\n",
    "\n"
   ]
  }
 ],
 "metadata": {
  "language_info": {
   "name": "python"
  },
  "orig_nbformat": 4
 },
 "nbformat": 4,
 "nbformat_minor": 2
}
