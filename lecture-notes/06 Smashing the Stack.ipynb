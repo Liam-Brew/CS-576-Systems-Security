{
 "cells": [
  {
   "cell_type": "markdown",
   "metadata": {},
   "source": [
    "# 06: Smashing the Stack\n",
    "\n",
    "The stack is LIFO, meaning that it grows towards lower addresses (downwards)\n",
    "\n",
    "To use more of the stack, a program needs to lower the stack pointer (i.e. move it down)\n",
    "\n",
    "**Stack pointer**: points to the top of the stack (i.e. its first element). This is usually stored in RSP/ESP\n",
    "\n",
    "The stack is used to: \n",
    "\n",
    "- **store frame pointer**\n",
    "- store local variables\n",
    "- pass function arguments\n",
    "- temporarily store register values\n",
    "- return the address of caller function\n",
    "\n",
    "Calling conventions are enforced by the compiler and are important when considering 3rd party libraries\n",
    "\n",
    "**cdecl**: arguments are passed on the stack\n",
    "\n",
    "- eax, edx, ecx are caller saved (callee can overwrite without saving)\n",
    "- ebx, esi, edi are callee saved (callee must ensure they have the same value on return)\n",
    "- eax used for the function return value\n",
    "\n",
    "**System V AMD64 ABI**: arguments are passed using registers. The first 6 integers are pointer arguments are passed in registers RDI, RSI, RDX, RCX, R8, R9\n",
    "\n",
    "- RBP, RBX, and R12-R15 are callee saved\n",
    "- RAX is used for the return function \n",
    "\n",
    "**Stack frame**: includes all function-local data. Starts below the return address and stops at the stack pointer\n",
    "\n",
    "**Frame pointer** (aka base pointer): marks the highest address in the frame. Commonly stored in RBP/EBP\n",
    "\n",
    "- needs to be updated upon entering and exiting the function\n",
    "\n",
    "Steps of a function call:\n",
    "\n",
    "1. prepare arguments\n",
    "2. make the call\n",
    "3. function prologue\n",
    "   1. save RBP/EBP\n",
    "   2. setup new RBP/EBP\n",
    "4. callee saves registers that need to be preserved\n",
    "5. callee allocates stack space\n",
    "\n",
    "## Control Flow Hijacking\n",
    "\n",
    "**Control flow hijacking**: untrusted inputs lead to the corruption of a code pointer. This can be accomplished via scripted overflows. Used to be accomplished primarily via stack smashing before more modern security techniques were implemented. To disable these use ```setarch -R [program_name]``` \n",
    "\n",
    "Code is injected after the modification of the return address, which allows for attackers to control the next steps of the program\n",
    "\n"
   ]
  }
 ],
 "metadata": {
  "language_info": {
   "name": "python"
  },
  "orig_nbformat": 4
 },
 "nbformat": 4,
 "nbformat_minor": 2
}
